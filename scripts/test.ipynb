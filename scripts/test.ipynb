{
 "cells": [
  {
   "cell_type": "code",
   "execution_count": 40,
   "metadata": {},
   "outputs": [],
   "source": [
    "import os, uuid, sys\n",
    "from azure.storage.filedatalake import DataLakeServiceClient\n",
    "from azure.storage.filedatalake import FileSystemClient\n",
    "from azure.core._match_conditions import MatchConditions\n",
    "from azure.storage.filedatalake._models import ContentSettings\n",
    "import pandas as pd\n"
   ]
  },
  {
   "cell_type": "code",
   "execution_count": 58,
   "metadata": {},
   "outputs": [],
   "source": [
    "connectionstring=\"DefaultEndpointsProtocol=https;AccountName=datalaketest123;AccountKey=mG5IGAwpT+tjzf7XQ7TDKqsrpN2ESnMG/CDjPUjSIcUn46mKKlF67b1mRBXDq/J59NuNRImYw/qgCUuTFFX2dg==;EndpointSuffix=core.windows.net\""
   ]
  },
  {
   "cell_type": "code",
   "execution_count": 59,
   "metadata": {},
   "outputs": [],
   "source": [
    "service_client = DataLakeServiceClient.from_connection_string(connectionstring)\n",
    "file_systems = service_client.list_file_systems()"
   ]
  },
  {
   "cell_type": "code",
   "execution_count": 60,
   "metadata": {},
   "outputs": [
    {
     "name": "stdout",
     "output_type": "stream",
     "text": [
      "['test']\n"
     ]
    }
   ],
   "source": [
    "file_systems_list =[]\n",
    "for file_system in file_systems:\n",
    "    file_systems_list.append(file_system.name)\n",
    "print(file_systems_list)"
   ]
  },
  {
   "cell_type": "code",
   "execution_count": 61,
   "metadata": {},
   "outputs": [
    {
     "name": "stdout",
     "output_type": "stream",
     "text": [
      "d365datalakeexport\n",
      "\n",
      "d365datalakeexport/ChangeFeed\n",
      "\n",
      "d365datalakeexport/Tables\n",
      "\n",
      "d365datalakeexport/Tables/Common\n",
      "\n",
      "d365datalakeexport/Tables/Common/Customer\n",
      "\n",
      "d365datalakeexport/Tables/Common/Customer/Main\n",
      "\n",
      "d365datalakeexport/Tables/Common/Customer/Main/CustTable\n",
      "\n",
      "d365datalakeexport/Tables/Common/Customer/Main/CustTable/CUSTTABLE_00001.csv\n",
      "\n",
      "d365datalakeexport/Tables/Common/Customer/Main/CustTable/index.json\n",
      "\n",
      "d365datalakeexport/Tables/Common/Customer/Main/CustTable.cdm.json\n",
      "\n",
      "d365datalakeexport/Tables/SupplyChain\n",
      "\n",
      "d365datalakeexport/Tables/SupplyChain/ProductInformationManagement\n",
      "\n",
      "d365datalakeexport/Tables/SupplyChain/ProductInformationManagement/Main\n",
      "\n",
      "d365datalakeexport/Tables/SupplyChain/ProductInformationManagement/Main/EcoResProduct\n",
      "\n",
      "d365datalakeexport/Tables/SupplyChain/ProductInformationManagement/Main/EcoResProduct/ECORESPRODUCT_00001.csv\n",
      "\n",
      "d365datalakeexport/Tables/SupplyChain/ProductInformationManagement/Main/EcoResProduct/index.json\n",
      "\n",
      "d365datalakeexport/Tables/SupplyChain/ProductInformationManagement/Main/EcoResProduct.cdm.json\n",
      "\n",
      "d365datalakeexport/Tables/SupplyChain/SalesAndMarketing\n",
      "\n",
      "d365datalakeexport/Tables/SupplyChain/SalesAndMarketing/WorkSheetHeader\n",
      "\n",
      "d365datalakeexport/Tables/SupplyChain/SalesAndMarketing/WorkSheetHeader/SalesTable\n",
      "\n"
     ]
    }
   ],
   "source": [
    "for file_system in file_systems_list:\n",
    "    paths = FileSystemClient.from_connection_string(connectionstring, file_system_name=file_system).get_paths()\n",
    "    for path in paths:\n",
    "        print(path.name + '\\n')"
   ]
  }
 ],
 "metadata": {
  "interpreter": {
   "hash": "76bbaa3271aaade04c57d51d2971ff34a756b33b1c3a3dbce0a302f38743fc9f"
  },
  "kernelspec": {
   "display_name": "Python 3.9.4 64-bit ('TotalData-08.11.2021': conda)",
   "language": "python",
   "name": "python3"
  },
  "language_info": {
   "codemirror_mode": {
    "name": "ipython",
    "version": 3
   },
   "file_extension": ".py",
   "mimetype": "text/x-python",
   "name": "python",
   "nbconvert_exporter": "python",
   "pygments_lexer": "ipython3",
   "version": "3.9.4"
  },
  "orig_nbformat": 4
 },
 "nbformat": 4,
 "nbformat_minor": 2
}
